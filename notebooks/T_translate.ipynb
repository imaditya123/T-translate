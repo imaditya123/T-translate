{
  "nbformat": 4,
  "nbformat_minor": 0,
  "metadata": {
    "colab": {
      "provenance": [],
      "machine_shape": "hm",
      "gpuType": "L4"
    },
    "kernelspec": {
      "name": "python3",
      "display_name": "Python 3"
    },
    "language_info": {
      "name": "python"
    },
    "accelerator": "GPU"
  },
  "cells": [
    {
      "cell_type": "code",
      "source": [
        "# !pip install datasets\n"
      ],
      "metadata": {
        "id": "FVR5ONAbKLKZ"
      },
      "execution_count": null,
      "outputs": []
    },
    {
      "cell_type": "code",
      "execution_count": null,
      "metadata": {
        "id": "gJ8ABRuTsxrb"
      },
      "outputs": [],
      "source": [
        "import torch\n",
        "import torch.nn as nn\n",
        "import torch.nn.functional as F\n",
        "\n",
        "import math\n",
        "\n",
        "from tqdm import tqdm\n",
        "\n",
        "from torch.utils.data import Dataset\n",
        "from torch.utils.data import DataLoader"
      ]
    },
    {
      "cell_type": "markdown",
      "source": [
        "##Model Declaration"
      ],
      "metadata": {
        "id": "Ka5NWys1wHu-"
      }
    },
    {
      "cell_type": "markdown",
      "source": [
        "###Attention"
      ],
      "metadata": {
        "id": "5IOMr8pYwMcE"
      }
    },
    {
      "cell_type": "code",
      "source": [
        "class Attention(nn.Module):\n",
        "  def __init__(self,embed_dim,head_dim,dropout_rate):\n",
        "    super(Attention,self).__init__()\n",
        "\n",
        "    self.query=nn.Linear(embed_dim,head_dim)\n",
        "    self.key=nn.Linear(embed_dim,head_dim)\n",
        "    self.value=nn.Linear(embed_dim,head_dim)\n",
        "    self.dropout=nn.Dropout(dropout_rate)\n",
        "\n",
        "\n",
        "  def forward(self,query,key,value,mask=None):\n",
        "    d_k=query.size(-1)\n",
        "\n",
        "    q=self.query(query)\n",
        "    k=self.key(key)\n",
        "    v=self.value(value)\n",
        "\n",
        "    scores=q @ k.transpose(1,2) /math.sqrt(d_k)\n",
        "    if mask is not None:\n",
        "      # mask = mask.unsqueeze(1)\n",
        "      scores = scores.masked_fill(mask == 0, float('-inf'))\n",
        "\n",
        "    weights=F.softmax(scores,dim=-1)\n",
        "    weights=self.dropout(weights)\n",
        "    out=weights @ v\n",
        "    return out\n"
      ],
      "metadata": {
        "id": "cF9RoT6Ktg4V"
      },
      "execution_count": null,
      "outputs": []
    },
    {
      "cell_type": "code",
      "source": [
        "# # Define query, key, and value\n",
        "# query = torch.rand(2, 4, 16)  # batch_size=2, seq_len=4, embed_dim=16\n",
        "# key = torch.rand(2, 4, 16)\n",
        "# value = torch.rand(2, 4, 16)\n",
        "\n",
        "# # Define a mask where the last element in each sequence is masked (set to 0)\n",
        "# mask = torch.ones(2, 4, 4)  # mask for batch_size=2, seq_len=4\n",
        "# mask[:, -1, -1] = 0  # Mask the last element\n",
        "\n",
        "# # Create Attention instance\n",
        "# attention = Attention(embed_dim=16, head_dim=8, dropout_rate=0.1)\n",
        "\n",
        "# # Run the attention with the mask\n",
        "# output_with_mask = attention(query, key, value, mask=mask)\n",
        "# output_without_mask = attention(query, key, value)\n",
        "\n",
        "# # Check that outputs with and without mask are different\n",
        "# assert not torch.equal(output_with_mask, output_without_mask), \"Mask not applied correctly!\"\n",
        "# print(\"Basic Mask Test Passed!\")"
      ],
      "metadata": {
        "id": "-lEzKdQpwaff"
      },
      "execution_count": null,
      "outputs": []
    },
    {
      "cell_type": "markdown",
      "source": [
        "###Multihead attention"
      ],
      "metadata": {
        "id": "gZ6RhK6XxmN3"
      }
    },
    {
      "cell_type": "code",
      "source": [
        "class MultiheadAttention(nn.Module):\n",
        "  def __init__(self,embed_dim,head_size,dropout_rate):\n",
        "    super(MultiheadAttention,self).__init__()\n",
        "\n",
        "    # Validate that embed_dim is divisible by head_size\n",
        "    assert embed_dim % head_size == 0, \"embed_dim must be divisible by head_size\"\n",
        "\n",
        "    self.head_dim=embed_dim//head_size\n",
        "    self.embed_dim=embed_dim\n",
        "    self.head_size=head_size\n",
        "\n",
        "    self.attn_heads=nn.ModuleList([Attention(embed_dim,self.head_dim,dropout_rate) for _ in range(head_size)])\n",
        "    self.out_layer=nn.Linear(self.head_dim*head_size,embed_dim)\n",
        "    self.dropout=nn.Dropout(dropout_rate)\n",
        "\n",
        "\n",
        "  def forward(self,query,key,value,mask=None):\n",
        "\n",
        "    out=torch.cat([h(query,key,value,mask) for h in self.attn_heads],dim=-1)\n",
        "    out=self.dropout(self.out_layer(out))\n",
        "    return out"
      ],
      "metadata": {
        "id": "aJd0vkN_wc-L"
      },
      "execution_count": null,
      "outputs": []
    },
    {
      "cell_type": "code",
      "source": [
        "\n",
        "# # Define query, key, and value tensors\n",
        "# query = torch.rand(2, 4, 16)  # batch_size=2, seq_len=4, embed_dim=16\n",
        "# key = torch.rand(2, 4, 16)\n",
        "# value = torch.rand(2, 4, 16)\n",
        "\n",
        "# # Define a mask where the last element in each sequence is masked (set to 0)\n",
        "# mask = torch.ones(2, 4, 4)  # mask for batch_size=2, seq_len=4\n",
        "# mask[:, -1, -1] = 0  # Mask the last element\n",
        "\n",
        "# # Create MultiheadAttention instance\n",
        "# attention = MultiheadAttention(embed_dim=16, head_size=4, dropout_rate=0.1)\n",
        "\n",
        "# # Run the attention with the mask\n",
        "# output_with_mask = attention(query, key, value, mask=mask)\n",
        "# output_without_mask = attention(query, key, value)\n",
        "\n",
        "# # Check that outputs with and without mask are different\n",
        "# assert not torch.equal(output_with_mask, output_without_mask), \"Mask not applied correctly!\"\n",
        "# print(\"Basic Test for MultiheadAttention Passed!\")"
      ],
      "metadata": {
        "id": "qGVqoMHM0AFx"
      },
      "execution_count": null,
      "outputs": []
    },
    {
      "cell_type": "markdown",
      "source": [
        "###Feed forward layer"
      ],
      "metadata": {
        "id": "AzuOAP3Z0pb8"
      }
    },
    {
      "cell_type": "code",
      "source": [
        "class FeedForward(nn.Module):\n",
        "  def __init__(self,embed_dim,filter_dim,dropout_rate):\n",
        "    super(FeedForward,self).__init__()\n",
        "\n",
        "    self.linear1=nn.Linear(embed_dim,filter_dim)\n",
        "    self.gelu=nn.GELU()\n",
        "    self.linear2=nn.Linear(filter_dim,embed_dim)\n",
        "    self.dropout=nn.Dropout(dropout_rate)\n",
        "\n",
        "  def forward(self,x):\n",
        "    x=self.linear1(x)\n",
        "    x=self.gelu(x)\n",
        "    x=self.linear2(x)\n",
        "    x=self.dropout(x)\n",
        "\n",
        "    return x"
      ],
      "metadata": {
        "id": "BHl8w_WL0kqq"
      },
      "execution_count": null,
      "outputs": []
    },
    {
      "cell_type": "code",
      "source": [
        "# # Define input tensor with shape (batch_size=2, seq_len=4, embed_dim=16)\n",
        "# x = torch.rand(2, 4, 16)  # batch_size=2, seq_len=4, embed_dim=16\n",
        "\n",
        "# # Create FeedForward instance\n",
        "# feedforward = FeedForward(embed_dim=16, filter_dim=64, dropout_rate=0.1)\n",
        "\n",
        "# # Run the feedforward layer\n",
        "# output = feedforward(x)\n",
        "\n",
        "# # Check the output shape (batch_size, seq_len, embed_dim)\n",
        "# assert output.shape == (2, 4, 16), f\"Expected output shape (2, 4, 16), but got {output.shape}\"\n",
        "\n",
        "# print(\"Basic Test for FeedForward Passed!\")"
      ],
      "metadata": {
        "id": "Tew2kijk4Dye"
      },
      "execution_count": null,
      "outputs": []
    },
    {
      "cell_type": "markdown",
      "source": [
        "###Transformer Encoder Layer"
      ],
      "metadata": {
        "id": "DMEFiCL34KI4"
      }
    },
    {
      "cell_type": "code",
      "source": [
        "class TransformerEncoderLayer(nn.Module):\n",
        "  def __init__(self,embed_dim,head_size,dropout_rate,filter_dim):\n",
        "    super(TransformerEncoderLayer,self).__init__()\n",
        "\n",
        "    self.attn_layer_norm=nn.LayerNorm(embed_dim,eps=1e-6)\n",
        "    self.attn=MultiheadAttention(embed_dim,head_size,dropout_rate)\n",
        "    self.attn_dropout=nn.Dropout(dropout_rate)\n",
        "\n",
        "    self.ffwd_layer_norm=nn.LayerNorm(embed_dim,eps=1e-6)\n",
        "    self.ffwd=FeedForward(embed_dim,filter_dim,dropout_rate)\n",
        "    self.ffwd_dropout=nn.Dropout(dropout_rate)\n",
        "\n",
        "  def forward(self,x,mask=None):\n",
        "    y=self.attn_layer_norm(x)\n",
        "    y=self.attn(y,y,y,mask)\n",
        "    y=self.attn_dropout(y)\n",
        "    x=x+y\n",
        "\n",
        "    y=self.ffwd_layer_norm(x)\n",
        "    y=self.ffwd(y)\n",
        "    y=self.attn_dropout(y)\n",
        "    x=x+y\n",
        "\n",
        "    return x"
      ],
      "metadata": {
        "id": "waBvticF4EH3"
      },
      "execution_count": null,
      "outputs": []
    },
    {
      "cell_type": "code",
      "source": [
        "# # Define input tensor (batch_size=2, seq_len=4, embed_dim=16)\n",
        "# x = torch.rand(2, 4, 16)\n",
        "\n",
        "# # Create TransformerEncoderLayer instance\n",
        "# transformer_layer = TransformerEncoderLayer(embed_dim=16, head_size=4, dropout_rate=0.1, filter_dim=64)\n",
        "\n",
        "# # Run the transformer encoder layer\n",
        "# output = transformer_layer(x)\n",
        "\n",
        "# # Check the output shape (batch_size, seq_len, embed_dim)\n",
        "# assert output.shape == (2, 4, 16), f\"Expected output shape (2, 4, 16), but got {output.shape}\"\n",
        "\n",
        "# print(\"Basic Test for TransformerEncoderLayer Passed!\")\n",
        "\n"
      ],
      "metadata": {
        "id": "YZyB11Hy7Dtq"
      },
      "execution_count": null,
      "outputs": []
    },
    {
      "cell_type": "markdown",
      "source": [
        "###Embeddings"
      ],
      "metadata": {
        "id": "0noJd6z-AQub"
      }
    },
    {
      "cell_type": "code",
      "source": [
        "class Embeddings(nn.Module):\n",
        "  def __init__(self,vocab_size,embed_dim,max_position_embeddings,dropout_rate):\n",
        "    super(Embeddings,self).__init__()\n",
        "\n",
        "    self.token_embeddings=nn.Embedding(vocab_size,embed_dim)\n",
        "    self.position_embeddings=nn.Embedding(max_position_embeddings,embed_dim)\n",
        "\n",
        "    self.layer_norm=nn.LayerNorm(embed_dim,eps=1e-6)\n",
        "    self.dropout=nn.Dropout(dropout_rate)\n",
        "\n",
        "  def forward(self,input_ids):\n",
        "\n",
        "    seq_len=input_ids.size(-1)\n",
        "    position_ids=torch.arange(seq_len,dtype=torch.long,device=input_ids.device).unsqueeze(0)\n",
        "\n",
        "    token_embeddings=self.token_embeddings(input_ids)\n",
        "    position_embeddings=self.position_embeddings(position_ids)\n",
        "\n",
        "    embeddings=token_embeddings+position_embeddings\n",
        "    embeddings=self.layer_norm(embeddings)\n",
        "    embeddings=self.dropout(embeddings)\n",
        "\n",
        "    return embeddings\n"
      ],
      "metadata": {
        "id": "8Vh_fnyo7EN7"
      },
      "execution_count": null,
      "outputs": []
    },
    {
      "cell_type": "code",
      "source": [
        "# # Define input tensor (batch_size=2, seq_len=4)\n",
        "# input_ids = torch.tensor([[1, 2, 3, 4], [1, 2, 3, 4]])\n",
        "\n",
        "# # Create Embeddings instance\n",
        "# embeddings = Embeddings(vocab_size=10, embed_dim=16, max_position_embeddings=4, dropout_rate=0.1)\n",
        "\n",
        "# # Run the embeddings layer\n",
        "# output = embeddings(input_ids)\n",
        "\n",
        "# # Check the output shape (batch_size=2, seq_len=4, embed_dim=16)\n",
        "# assert output.shape == (2, 4, 16), f\"Expected output shape (2, 4, 16), but got {output.shape}\"\n",
        "\n",
        "# print(\"Basic Test for Embeddings Passed!\")\n"
      ],
      "metadata": {
        "id": "IZf1d2IiAFtG"
      },
      "execution_count": null,
      "outputs": []
    },
    {
      "cell_type": "markdown",
      "source": [
        "### Transformer Encoder"
      ],
      "metadata": {
        "id": "MKO3mIPiAWE2"
      }
    },
    {
      "cell_type": "code",
      "source": [
        "class TransformerEncoder(nn.Module):\n",
        "  def __init__(self,embed_dim,head_size,dropout_rate,vocab_size,max_position_embeddings,n_layers):\n",
        "    super(TransformerEncoder,self).__init__()\n",
        "\n",
        "    self.embeddings=Embeddings(vocab_size,embed_dim,max_position_embeddings,dropout_rate)\n",
        "    self.layers=nn.ModuleList([TransformerEncoderLayer(embed_dim,head_size,dropout_rate,max_position_embeddings) for _ in range(n_layers)])\n",
        "\n",
        "  def forward(self,x,mask=None):\n",
        "    x=self.embeddings(x)\n",
        "    out=x\n",
        "    for layer in self.layers:\n",
        "      out=layer(out,mask)\n",
        "\n",
        "    return out"
      ],
      "metadata": {
        "id": "UBKFijObAYYv"
      },
      "execution_count": null,
      "outputs": []
    },
    {
      "cell_type": "code",
      "source": [
        "# # Define input tensor (batch_size=2, seq_len=4)\n",
        "# input_ids = torch.tensor([[1, 2, 3, 4], [1, 2, 3, 4]])\n",
        "\n",
        "\n",
        "\n",
        "# # Create the TransformerEncoder instance\n",
        "# transformer_encoder = TransformerEncoder(\n",
        "#     embed_dim=16,\n",
        "#     head_size=4,\n",
        "#     dropout_rate=0.1,\n",
        "#     vocab_size=10,\n",
        "#     max_position_embeddings=4,\n",
        "#     n_layers=2\n",
        "# )\n",
        "\n",
        "# # Run the model\n",
        "# output = transformer_encoder(input_ids)\n",
        "\n",
        "# # Check the output shape (batch_size=2, seq_len=4, embed_dim=16)\n",
        "# assert output.shape == (2, 4, 16), f\"Expected output shape (2, 4, 16), but got {output.shape}\"\n",
        "\n",
        "# print(\"Basic Test for Transformer Encoder Passed!\")\n"
      ],
      "metadata": {
        "id": "HZbyKOsiBnpF"
      },
      "execution_count": null,
      "outputs": []
    },
    {
      "cell_type": "markdown",
      "source": [
        "###Transformer Decoder layer"
      ],
      "metadata": {
        "id": "bj38_jK9Bph0"
      }
    },
    {
      "cell_type": "code",
      "source": [
        "class TransformerDecoderLayer(nn.Module):\n",
        "  def __init__(self,embed_dim,head_size,dropout_rate,filter_dim):\n",
        "    super(TransformerDecoderLayer,self).__init__()\n",
        "\n",
        "    self.attn_layer_norm=nn.LayerNorm(embed_dim,eps=1e-6)\n",
        "    self.attn=MultiheadAttention(embed_dim,head_size,dropout_rate)\n",
        "    self.attn_dropout=nn.Dropout(dropout_rate)\n",
        "\n",
        "    self.enc_dec_layer_norm=nn.LayerNorm(embed_dim,eps=1e-6)\n",
        "    self.enc_dec=MultiheadAttention(embed_dim,head_size,dropout_rate)\n",
        "    self.enc_dec_dropout=nn.Dropout(dropout_rate)\n",
        "\n",
        "    self.ffwd_layer_norm=nn.LayerNorm(embed_dim,eps=1e-6)\n",
        "    self.ffwd=FeedForward(embed_dim,filter_dim,dropout_rate)\n",
        "    self.ffwd_dropout=nn.Dropout(dropout_rate)\n",
        "\n",
        "  def forward(self,x,mask,encoder_out=None,encoder_mask=None):\n",
        "    y=self.attn_layer_norm(x)\n",
        "    y=self.attn(y,y,y,mask)\n",
        "    y=self.attn_dropout(y)\n",
        "    x=x+y\n",
        "\n",
        "    if encoder_out is not None:\n",
        "      y=self.enc_dec_layer_norm(x)\n",
        "      y=self.enc_dec(y,encoder_out,encoder_out,encoder_mask)\n",
        "      y=self.enc_dec_dropout(y)\n",
        "      x=x+y\n",
        "\n",
        "    y=self.ffwd_layer_norm(x)\n",
        "    y=self.ffwd(y)\n",
        "    y=self.attn_dropout(y)\n",
        "    x=x+y\n",
        "\n",
        "    return x"
      ],
      "metadata": {
        "id": "DJ70HXWMBn6i"
      },
      "execution_count": null,
      "outputs": []
    },
    {
      "cell_type": "code",
      "source": [
        "# # Define input tensor (batch_size=2, seq_len=4, embed_dim=16)\n",
        "# x = torch.rand(2, 4, 16)\n",
        "\n",
        "# # Define encoder output (batch_size=2, encoder_seq_len=6, embed_dim=16)\n",
        "# encoder_out = torch.rand(2, 4, 16)\n",
        "\n",
        "# # Define mask\n",
        "# mask = torch.ones(2, 4, 4)\n",
        "\n",
        "# # Create TransformerDecoderLayer instance\n",
        "# decoder_layer = TransformerDecoderLayer(embed_dim=16, head_size=4, dropout_rate=0.1, filter_dim=32)\n",
        "\n",
        "# # Run the decoder layer\n",
        "# output = decoder_layer(x, mask, encoder_out=encoder_out)\n",
        "\n",
        "# # Check output shape\n",
        "# assert output.shape == (2, 4, 16), f\"Expected output shape (2, 4, 16), but got {output.shape}\"\n",
        "\n",
        "# print(\"Decoder Attention Test Passed!\")"
      ],
      "metadata": {
        "id": "jhHz-Ine3i_0"
      },
      "execution_count": null,
      "outputs": []
    },
    {
      "cell_type": "code",
      "source": [
        "class TransformerDecoder(nn.Module):\n",
        "  def __init__(self,embed_dim,head_size,dropout_rate,vocab_size,max_position_embeddings,n_layers):\n",
        "    super(TransformerDecoder,self).__init__()\n",
        "\n",
        "    self.embeddings=Embeddings(vocab_size,embed_dim,max_position_embeddings,dropout_rate)\n",
        "    self.layers=nn.ModuleList([TransformerDecoderLayer(embed_dim,head_size,dropout_rate,max_position_embeddings) for _ in range(n_layers)])\n",
        "\n",
        "  def forward(self,x,encoder_out=None,mask=None,encoder_mask=None):\n",
        "    x=self.embeddings(x)\n",
        "    out=x\n",
        "    for layer in self.layers:\n",
        "      out=layer(out,mask,encoder_out,encoder_mask)\n",
        "    return out"
      ],
      "metadata": {
        "id": "-OBoA2W7JcKO"
      },
      "execution_count": null,
      "outputs": []
    },
    {
      "cell_type": "code",
      "source": [
        "# batch_size = 2\n",
        "# decoder_seq_len = 5\n",
        "# encoder_seq_len = 5  # Different from decoder\n",
        "# vocab_size = 1000\n",
        "# embed_dim = 16\n",
        "# head_size = 4\n",
        "# dropout_rate = 0.1\n",
        "# filter_dim = 32\n",
        "# max_position_embeddings = 10\n",
        "# n_layers = 2\n",
        "\n",
        "# # Create random token IDs\n",
        "# x = torch.randint(0, vocab_size, (batch_size, decoder_seq_len))  # Decoder input (batch_size, decoder_seq_len)\n",
        "\n",
        "# # Create decoder self-attention mask (causal)\n",
        "# self_mask = torch.tril(torch.ones(batch_size, decoder_seq_len, decoder_seq_len))  # Lower-triangular mask\n",
        "\n",
        "# # Create encoder output\n",
        "# encoder_out = torch.rand(batch_size, encoder_seq_len, embed_dim)  # (batch_size, encoder_seq_len, embed_dim)\n",
        "\n",
        "# # Create encoder-decoder attention mask\n",
        "# encoder_mask = torch.ones(batch_size, decoder_seq_len, encoder_seq_len)  # No masking for now\n",
        "\n",
        "# # Create decoder\n",
        "# decoder = TransformerDecoder(embed_dim, head_size, dropout_rate, vocab_size, max_position_embeddings, n_layers)\n",
        "\n",
        "# # Run decoder with encoder output\n",
        "# output = decoder(x, encoder_out, self_mask, encoder_mask)\n",
        "\n",
        "# # Ensure output shape matches decoder input shape\n",
        "# assert output.shape == (batch_size, decoder_seq_len, embed_dim), \\\n",
        "#     f\"Expected output shape {(batch_size, decoder_seq_len, embed_dim)}, but got {output.shape}\"\n",
        "\n",
        "# print(\"Test 2 Passed: Decoder correctly handles encoder output with different sequence lengths!\")\n",
        "\n"
      ],
      "metadata": {
        "id": "VRO6PRNp3d2z"
      },
      "execution_count": null,
      "outputs": []
    },
    {
      "cell_type": "code",
      "source": [
        "class TransformerModel(nn.Module):\n",
        "    def __init__(self, i_vocab_size, t_vocab_size, d_model=512, num_heads=8,\n",
        "                 num_encoder_layers=6, num_decoder_layers=6, hidden_dim=2048, dropout=0.1):\n",
        "        \"\"\"\n",
        "        input_dim: Vocabulary size for source language.\n",
        "        output_dim: Vocabulary size for target language.\n",
        "        \"\"\"\n",
        "        super(TransformerModel, self).__init__()\n",
        "        self.encoder = TransformerEncoder(vocab_size=i_vocab_size,max_position_embeddings= d_model,head_size= num_heads,embed_dim=  hidden_dim,dropout_rate= dropout,n_layers=num_encoder_layers)\n",
        "        self.decoder = TransformerDecoder(vocab_size=t_vocab_size, max_position_embeddings= d_model,head_size= num_heads,embed_dim=  hidden_dim,dropout_rate= dropout,n_layers=num_encoder_layers)\n",
        "\n",
        "        self.out_layer=nn.Linear(hidden_dim,t_vocab_size)\n",
        "\n",
        "\n",
        "    def make_tgt_mask(self, tgt):\n",
        "        \"\"\"\n",
        "        Create a mask to hide future tokens in the target sequence.\n",
        "        \"\"\"\n",
        "        tgt_seq_len = tgt.size(1)\n",
        "        # Lower triangular matrix: 1's where allowed, 0's elsewhere.\n",
        "        mask = torch.tril(torch.ones((tgt_seq_len, tgt_seq_len), device=tgt.device)).bool()\n",
        "        return mask\n",
        "\n",
        "    def forward(self, src, tgt, src_mask=None, tgt_mask=None):\n",
        "        \"\"\"\n",
        "        src: Source sequence tensor (batch_size, src_seq_len)\n",
        "        tgt: Target sequence tensor (batch_size, tgt_seq_len)\n",
        "        src_mask: Optional mask for source (e.g., padding mask)\n",
        "        tgt_mask: Optional mask for target (e.g., future masking)\n",
        "        \"\"\"\n",
        "        memory = self.encoder(src, src_mask)\n",
        "        if tgt_mask is None:\n",
        "            tgt_mask = self.make_tgt_mask(tgt)\n",
        "        output = self.decoder(tgt, memory, tgt_mask,src_mask)\n",
        "        return self.out_layer(output)"
      ],
      "metadata": {
        "id": "Cgipp4A07lLH"
      },
      "execution_count": null,
      "outputs": []
    },
    {
      "cell_type": "markdown",
      "source": [
        "##Dataset"
      ],
      "metadata": {
        "id": "RdiL6sTDKrB-"
      }
    },
    {
      "cell_type": "code",
      "source": [
        "import pandas as pd\n",
        "\n",
        "df = pd.read_parquet(\"hf://datasets/Hemanth-thunder/english-to-kannada-mt/data/train-00000-of-00001.parquet\")"
      ],
      "metadata": {
        "id": "DU-Asi-rKqwW"
      },
      "execution_count": null,
      "outputs": []
    },
    {
      "cell_type": "code",
      "source": [
        "df.head()"
      ],
      "metadata": {
        "colab": {
          "base_uri": "https://localhost:8080/",
          "height": 206
        },
        "id": "7QJi6Ah_Vr9i",
        "outputId": "987ea112-e4bc-4235-9fe3-6246f044154a"
      },
      "execution_count": null,
      "outputs": [
        {
          "output_type": "execute_result",
          "data": {
            "text/plain": [
              "                                                  en  \\\n",
              "0                                   Hes a scientist.   \n",
              "1  'But we speak the truth aur ye sach hai ke Guj...   \n",
              "2                     8 lakh crore have been looted.   \n",
              "3                    I read a lot into this as well.   \n",
              "4  She was found dead with the phone's battery ex...   \n",
              "\n",
              "                                                  kn  \n",
              "0                            ಇವರು ಸಂಶೋಧಕ ಸ್ವಭಾವದವರು.  \n",
              "1  \"ಆದರೆ ಸತ್ಯ ಹೊರ ಬಂದೇ ಬರುತ್ತದೆ ಎಂದು ಹೇಳಿದ ರಾಹುಲ್...  \n",
              "2                           ಕಳ್ಳತನವಾಗಿದ್ದ 8 ಲಕ್ಷ ರೂ.  \n",
              "3                  ಇದರ ಬಗ್ಗೆ ನಾನೂ ಸಾಕಷ್ಟು ಓದಿದ್ದೇನೆ.  \n",
              "4  ಆಕೆಯ ತಲೆಯ ಹತ್ತಿರ ಇರಿಸಿಕೊಂಡಿದ್ದ ಫೋನ್‌ನ ಬ್ಯಾಟರಿ ...  "
            ],
            "text/html": [
              "\n",
              "  <div id=\"df-e7689c34-7283-455b-8e25-1b6437353079\" class=\"colab-df-container\">\n",
              "    <div>\n",
              "<style scoped>\n",
              "    .dataframe tbody tr th:only-of-type {\n",
              "        vertical-align: middle;\n",
              "    }\n",
              "\n",
              "    .dataframe tbody tr th {\n",
              "        vertical-align: top;\n",
              "    }\n",
              "\n",
              "    .dataframe thead th {\n",
              "        text-align: right;\n",
              "    }\n",
              "</style>\n",
              "<table border=\"1\" class=\"dataframe\">\n",
              "  <thead>\n",
              "    <tr style=\"text-align: right;\">\n",
              "      <th></th>\n",
              "      <th>en</th>\n",
              "      <th>kn</th>\n",
              "    </tr>\n",
              "  </thead>\n",
              "  <tbody>\n",
              "    <tr>\n",
              "      <th>0</th>\n",
              "      <td>Hes a scientist.</td>\n",
              "      <td>ಇವರು ಸಂಶೋಧಕ ಸ್ವಭಾವದವರು.</td>\n",
              "    </tr>\n",
              "    <tr>\n",
              "      <th>1</th>\n",
              "      <td>'But we speak the truth aur ye sach hai ke Guj...</td>\n",
              "      <td>\"ಆದರೆ ಸತ್ಯ ಹೊರ ಬಂದೇ ಬರುತ್ತದೆ ಎಂದು ಹೇಳಿದ ರಾಹುಲ್...</td>\n",
              "    </tr>\n",
              "    <tr>\n",
              "      <th>2</th>\n",
              "      <td>8 lakh crore have been looted.</td>\n",
              "      <td>ಕಳ್ಳತನವಾಗಿದ್ದ 8 ಲಕ್ಷ ರೂ.</td>\n",
              "    </tr>\n",
              "    <tr>\n",
              "      <th>3</th>\n",
              "      <td>I read a lot into this as well.</td>\n",
              "      <td>ಇದರ ಬಗ್ಗೆ ನಾನೂ ಸಾಕಷ್ಟು ಓದಿದ್ದೇನೆ.</td>\n",
              "    </tr>\n",
              "    <tr>\n",
              "      <th>4</th>\n",
              "      <td>She was found dead with the phone's battery ex...</td>\n",
              "      <td>ಆಕೆಯ ತಲೆಯ ಹತ್ತಿರ ಇರಿಸಿಕೊಂಡಿದ್ದ ಫೋನ್‌ನ ಬ್ಯಾಟರಿ ...</td>\n",
              "    </tr>\n",
              "  </tbody>\n",
              "</table>\n",
              "</div>\n",
              "    <div class=\"colab-df-buttons\">\n",
              "\n",
              "  <div class=\"colab-df-container\">\n",
              "    <button class=\"colab-df-convert\" onclick=\"convertToInteractive('df-e7689c34-7283-455b-8e25-1b6437353079')\"\n",
              "            title=\"Convert this dataframe to an interactive table.\"\n",
              "            style=\"display:none;\">\n",
              "\n",
              "  <svg xmlns=\"http://www.w3.org/2000/svg\" height=\"24px\" viewBox=\"0 -960 960 960\">\n",
              "    <path d=\"M120-120v-720h720v720H120Zm60-500h600v-160H180v160Zm220 220h160v-160H400v160Zm0 220h160v-160H400v160ZM180-400h160v-160H180v160Zm440 0h160v-160H620v160ZM180-180h160v-160H180v160Zm440 0h160v-160H620v160Z\"/>\n",
              "  </svg>\n",
              "    </button>\n",
              "\n",
              "  <style>\n",
              "    .colab-df-container {\n",
              "      display:flex;\n",
              "      gap: 12px;\n",
              "    }\n",
              "\n",
              "    .colab-df-convert {\n",
              "      background-color: #E8F0FE;\n",
              "      border: none;\n",
              "      border-radius: 50%;\n",
              "      cursor: pointer;\n",
              "      display: none;\n",
              "      fill: #1967D2;\n",
              "      height: 32px;\n",
              "      padding: 0 0 0 0;\n",
              "      width: 32px;\n",
              "    }\n",
              "\n",
              "    .colab-df-convert:hover {\n",
              "      background-color: #E2EBFA;\n",
              "      box-shadow: 0px 1px 2px rgba(60, 64, 67, 0.3), 0px 1px 3px 1px rgba(60, 64, 67, 0.15);\n",
              "      fill: #174EA6;\n",
              "    }\n",
              "\n",
              "    .colab-df-buttons div {\n",
              "      margin-bottom: 4px;\n",
              "    }\n",
              "\n",
              "    [theme=dark] .colab-df-convert {\n",
              "      background-color: #3B4455;\n",
              "      fill: #D2E3FC;\n",
              "    }\n",
              "\n",
              "    [theme=dark] .colab-df-convert:hover {\n",
              "      background-color: #434B5C;\n",
              "      box-shadow: 0px 1px 3px 1px rgba(0, 0, 0, 0.15);\n",
              "      filter: drop-shadow(0px 1px 2px rgba(0, 0, 0, 0.3));\n",
              "      fill: #FFFFFF;\n",
              "    }\n",
              "  </style>\n",
              "\n",
              "    <script>\n",
              "      const buttonEl =\n",
              "        document.querySelector('#df-e7689c34-7283-455b-8e25-1b6437353079 button.colab-df-convert');\n",
              "      buttonEl.style.display =\n",
              "        google.colab.kernel.accessAllowed ? 'block' : 'none';\n",
              "\n",
              "      async function convertToInteractive(key) {\n",
              "        const element = document.querySelector('#df-e7689c34-7283-455b-8e25-1b6437353079');\n",
              "        const dataTable =\n",
              "          await google.colab.kernel.invokeFunction('convertToInteractive',\n",
              "                                                    [key], {});\n",
              "        if (!dataTable) return;\n",
              "\n",
              "        const docLinkHtml = 'Like what you see? Visit the ' +\n",
              "          '<a target=\"_blank\" href=https://colab.research.google.com/notebooks/data_table.ipynb>data table notebook</a>'\n",
              "          + ' to learn more about interactive tables.';\n",
              "        element.innerHTML = '';\n",
              "        dataTable['output_type'] = 'display_data';\n",
              "        await google.colab.output.renderOutput(dataTable, element);\n",
              "        const docLink = document.createElement('div');\n",
              "        docLink.innerHTML = docLinkHtml;\n",
              "        element.appendChild(docLink);\n",
              "      }\n",
              "    </script>\n",
              "  </div>\n",
              "\n",
              "\n",
              "<div id=\"df-27213e93-df92-4994-b150-ac5bcdd83441\">\n",
              "  <button class=\"colab-df-quickchart\" onclick=\"quickchart('df-27213e93-df92-4994-b150-ac5bcdd83441')\"\n",
              "            title=\"Suggest charts\"\n",
              "            style=\"display:none;\">\n",
              "\n",
              "<svg xmlns=\"http://www.w3.org/2000/svg\" height=\"24px\"viewBox=\"0 0 24 24\"\n",
              "     width=\"24px\">\n",
              "    <g>\n",
              "        <path d=\"M19 3H5c-1.1 0-2 .9-2 2v14c0 1.1.9 2 2 2h14c1.1 0 2-.9 2-2V5c0-1.1-.9-2-2-2zM9 17H7v-7h2v7zm4 0h-2V7h2v10zm4 0h-2v-4h2v4z\"/>\n",
              "    </g>\n",
              "</svg>\n",
              "  </button>\n",
              "\n",
              "<style>\n",
              "  .colab-df-quickchart {\n",
              "      --bg-color: #E8F0FE;\n",
              "      --fill-color: #1967D2;\n",
              "      --hover-bg-color: #E2EBFA;\n",
              "      --hover-fill-color: #174EA6;\n",
              "      --disabled-fill-color: #AAA;\n",
              "      --disabled-bg-color: #DDD;\n",
              "  }\n",
              "\n",
              "  [theme=dark] .colab-df-quickchart {\n",
              "      --bg-color: #3B4455;\n",
              "      --fill-color: #D2E3FC;\n",
              "      --hover-bg-color: #434B5C;\n",
              "      --hover-fill-color: #FFFFFF;\n",
              "      --disabled-bg-color: #3B4455;\n",
              "      --disabled-fill-color: #666;\n",
              "  }\n",
              "\n",
              "  .colab-df-quickchart {\n",
              "    background-color: var(--bg-color);\n",
              "    border: none;\n",
              "    border-radius: 50%;\n",
              "    cursor: pointer;\n",
              "    display: none;\n",
              "    fill: var(--fill-color);\n",
              "    height: 32px;\n",
              "    padding: 0;\n",
              "    width: 32px;\n",
              "  }\n",
              "\n",
              "  .colab-df-quickchart:hover {\n",
              "    background-color: var(--hover-bg-color);\n",
              "    box-shadow: 0 1px 2px rgba(60, 64, 67, 0.3), 0 1px 3px 1px rgba(60, 64, 67, 0.15);\n",
              "    fill: var(--button-hover-fill-color);\n",
              "  }\n",
              "\n",
              "  .colab-df-quickchart-complete:disabled,\n",
              "  .colab-df-quickchart-complete:disabled:hover {\n",
              "    background-color: var(--disabled-bg-color);\n",
              "    fill: var(--disabled-fill-color);\n",
              "    box-shadow: none;\n",
              "  }\n",
              "\n",
              "  .colab-df-spinner {\n",
              "    border: 2px solid var(--fill-color);\n",
              "    border-color: transparent;\n",
              "    border-bottom-color: var(--fill-color);\n",
              "    animation:\n",
              "      spin 1s steps(1) infinite;\n",
              "  }\n",
              "\n",
              "  @keyframes spin {\n",
              "    0% {\n",
              "      border-color: transparent;\n",
              "      border-bottom-color: var(--fill-color);\n",
              "      border-left-color: var(--fill-color);\n",
              "    }\n",
              "    20% {\n",
              "      border-color: transparent;\n",
              "      border-left-color: var(--fill-color);\n",
              "      border-top-color: var(--fill-color);\n",
              "    }\n",
              "    30% {\n",
              "      border-color: transparent;\n",
              "      border-left-color: var(--fill-color);\n",
              "      border-top-color: var(--fill-color);\n",
              "      border-right-color: var(--fill-color);\n",
              "    }\n",
              "    40% {\n",
              "      border-color: transparent;\n",
              "      border-right-color: var(--fill-color);\n",
              "      border-top-color: var(--fill-color);\n",
              "    }\n",
              "    60% {\n",
              "      border-color: transparent;\n",
              "      border-right-color: var(--fill-color);\n",
              "    }\n",
              "    80% {\n",
              "      border-color: transparent;\n",
              "      border-right-color: var(--fill-color);\n",
              "      border-bottom-color: var(--fill-color);\n",
              "    }\n",
              "    90% {\n",
              "      border-color: transparent;\n",
              "      border-bottom-color: var(--fill-color);\n",
              "    }\n",
              "  }\n",
              "</style>\n",
              "\n",
              "  <script>\n",
              "    async function quickchart(key) {\n",
              "      const quickchartButtonEl =\n",
              "        document.querySelector('#' + key + ' button');\n",
              "      quickchartButtonEl.disabled = true;  // To prevent multiple clicks.\n",
              "      quickchartButtonEl.classList.add('colab-df-spinner');\n",
              "      try {\n",
              "        const charts = await google.colab.kernel.invokeFunction(\n",
              "            'suggestCharts', [key], {});\n",
              "      } catch (error) {\n",
              "        console.error('Error during call to suggestCharts:', error);\n",
              "      }\n",
              "      quickchartButtonEl.classList.remove('colab-df-spinner');\n",
              "      quickchartButtonEl.classList.add('colab-df-quickchart-complete');\n",
              "    }\n",
              "    (() => {\n",
              "      let quickchartButtonEl =\n",
              "        document.querySelector('#df-27213e93-df92-4994-b150-ac5bcdd83441 button');\n",
              "      quickchartButtonEl.style.display =\n",
              "        google.colab.kernel.accessAllowed ? 'block' : 'none';\n",
              "    })();\n",
              "  </script>\n",
              "</div>\n",
              "\n",
              "    </div>\n",
              "  </div>\n"
            ],
            "application/vnd.google.colaboratory.intrinsic+json": {
              "type": "dataframe",
              "variable_name": "df"
            }
          },
          "metadata": {},
          "execution_count": 21
        }
      ]
    },
    {
      "cell_type": "markdown",
      "source": [
        "##Tokenizer Creation\n"
      ],
      "metadata": {
        "id": "ONkdIXWhKVEe"
      }
    },
    {
      "cell_type": "code",
      "source": [
        "import json\n",
        "from collections import Counter\n",
        "\n",
        "class Tokenizer:\n",
        "  def __init__(self,lower=True,special_tokens=None):\n",
        "    self.lower=lower\n",
        "\n",
        "    if special_tokens is None:\n",
        "      special_tokens=[\"<pad>\",\"<bos>\",\"<eos>\",\"<unk>\"]\n",
        "\n",
        "    self.special_tokens=special_tokens\n",
        "\n",
        "    self.word2idx={}\n",
        "    self.idx2word={}\n",
        "\n",
        "    self.vocab_fitted=False\n",
        "\n",
        "  def fit(self,texts,vocab_size=None):\n",
        "    tokens=[]\n",
        "\n",
        "    for text in tqdm(texts):\n",
        "      if self.lower:\n",
        "        text=text.lower()\n",
        "\n",
        "      tokens.extend(text.split())\n",
        "    counter=Counter(tokens)\n",
        "    # Get the most common tokens up to the specified vocab_size.\n",
        "    most_common = counter.most_common(vocab_size)\n",
        "    vocab_tokens = [token for token, _ in most_common]\n",
        "\n",
        "    # Ensure special tokens come first.\n",
        "    vocab = []\n",
        "    for token in tqdm(self.special_tokens):\n",
        "        if token not in vocab:\n",
        "            vocab.append(token)\n",
        "    for token in tqdm(vocab_tokens):\n",
        "        if token not in vocab:\n",
        "            vocab.append(token)\n",
        "\n",
        "\n",
        "    self.word2idx={word:idx for idx, word in enumerate(tqdm(vocab))}\n",
        "    self.idx2word={idx:word for  word,idx in tqdm(self.word2idx.items())}\n",
        "    self.vocab_fitted=True\n",
        "\n",
        "  def tokenize(self,text):\n",
        "    if self.lower:\n",
        "      text.lower()\n",
        "    return text.split()\n",
        "\n",
        "  def encode(self,text,add_special_tokens=True):\n",
        "    tokens = self.tokenize(text)\n",
        "    # Map tokens to their IDs, using the <unk> token for unknown tokens.\n",
        "    token_ids = [self.word2idx.get(token, self.word2idx.get(\"<unk>\")) for token in tokens]\n",
        "    if add_special_tokens:\n",
        "        token_ids = [self.word2idx.get(\"<bos>\")] + token_ids + [self.word2idx.get(\"<eos>\")]\n",
        "    return token_ids\n",
        "\n",
        "\n",
        "  def decode(self,token_ids, skip_special_tokens=True):\n",
        "    tokens = [self.idx2word.get(idx, \"<unk>\") for idx in token_ids]\n",
        "    if skip_special_tokens:\n",
        "      tokens = [token for token in tokens if token not in self.special_tokens]\n",
        "    return \" \".join(tokens)\n",
        "\n",
        "  def texts_to_sequences(self,texts,add_special_tokens=True):\n",
        "    return [self.encode(text, add_special_tokens=add_special_tokens) for text in texts]\n",
        "\n",
        "  def sequences_to_texts(self, sequences, skip_special_tokens=True):\n",
        "    return [self.decode(seq, skip_special_tokens=skip_special_tokens) for seq in sequences]\n",
        "\n",
        "  @property\n",
        "  def bos_token_id(self):\n",
        "    return self.word2idx.get(\"<bos>\", None)\n",
        "  @property\n",
        "  def eos_token_id(self):\n",
        "    return self.word2idx.get(\"<eos>\", None)\n",
        "  @property\n",
        "  def pad_token_id(self):\n",
        "    return self.word2idx.get(\"<pad>\", None)\n",
        "  @property\n",
        "  def unk_token_id(self):\n",
        "    return self.word2idx.get(\"<unk>\", None)\n",
        "\n",
        "  def save_vocab(self, file_path):\n",
        "    with open(file_path, \"w\", encoding=\"utf-8\") as f:\n",
        "      json.dump(self.word2idx, f, ensure_ascii=False, indent=4)\n",
        "\n",
        "  def load_vocab(self, file_path):\n",
        "    with open(file_path, \"r\", encoding=\"utf-8\") as f:\n",
        "      self.word2idx = json.load(f)\n",
        "    self.idx2word = {idx: word for word, idx in self.word2idx.items()}\n",
        "    self.vocab_fitted = True\n"
      ],
      "metadata": {
        "id": "wtzdmXBHKIW8"
      },
      "execution_count": null,
      "outputs": []
    },
    {
      "cell_type": "code",
      "source": [
        "en_tokenizer=Tokenizer()\n",
        "kn_tokenizer=Tokenizer(lower=False)"
      ],
      "metadata": {
        "id": "CiJYDhpD98fp"
      },
      "execution_count": null,
      "outputs": []
    },
    {
      "cell_type": "code",
      "source": [
        "en_tokenizer.fit(list(df['en']),vocab_size=8000)\n",
        "kn_tokenizer.fit(list(df['kn']),vocab_size=8192)"
      ],
      "metadata": {
        "colab": {
          "base_uri": "https://localhost:8080/"
        },
        "id": "nnny2fJsPlKo",
        "outputId": "e537251d-6360-4fab-affb-f033fd0f3681"
      },
      "execution_count": null,
      "outputs": [
        {
          "output_type": "stream",
          "name": "stderr",
          "text": [
            "100%|██████████| 300000/300000 [00:00<00:00, 800118.02it/s]\n",
            "100%|██████████| 4/4 [00:00<00:00, 58867.42it/s]\n",
            "100%|██████████| 8000/8000 [00:00<00:00, 15657.65it/s]\n",
            "100%|██████████| 8004/8004 [00:00<00:00, 2193766.53it/s]\n",
            "100%|██████████| 8004/8004 [00:00<00:00, 2638416.32it/s]\n",
            "100%|██████████| 300000/300000 [00:00<00:00, 777807.09it/s]\n",
            "100%|██████████| 4/4 [00:00<00:00, 36080.03it/s]\n",
            "100%|██████████| 8192/8192 [00:00<00:00, 15483.80it/s]\n",
            "100%|██████████| 8196/8196 [00:00<00:00, 2315852.57it/s]\n",
            "100%|██████████| 8196/8196 [00:00<00:00, 2180144.32it/s]\n"
          ]
        }
      ]
    },
    {
      "cell_type": "code",
      "source": [
        "class TranslationDataset(Dataset):\n",
        "    def __init__(self, df, src_column, tgt_column, src_tokenizer, tgt_tokenizer,\n",
        "                 src_max_len=20, tgt_max_len=20):\n",
        "      self.df = df.reset_index(drop=True)\n",
        "      self.src_column = src_column\n",
        "      self.tgt_column = tgt_column\n",
        "      self.src_tokenizer = src_tokenizer\n",
        "      self.tgt_tokenizer = tgt_tokenizer\n",
        "      self.src_max_len = src_max_len\n",
        "      self.tgt_max_len = tgt_max_len\n",
        "\n",
        "    def __len__(self):\n",
        "      return len(self.df)\n",
        "\n",
        "    def __getitem__(self, idx):\n",
        "      # Get the source and target text for the given index\n",
        "      src_text = self.df.loc[idx, self.src_column]\n",
        "      tgt_text = self.df.loc[idx, self.tgt_column]\n",
        "\n",
        "      # Encode the texts (the encode() method automatically adds <bos> and <eos> tokens)\n",
        "      src_ids = self.src_tokenizer.encode(src_text)\n",
        "      tgt_ids = self.tgt_tokenizer.encode(tgt_text)\n",
        "\n",
        "      # Pad or truncate the sequences to fixed lengths\n",
        "      src_ids = self.pad_or_truncate(src_ids, self.src_max_len, self.src_tokenizer.pad_token_id)\n",
        "      tgt_ids = self.pad_or_truncate(tgt_ids, self.tgt_max_len, self.tgt_tokenizer.pad_token_id)\n",
        "\n",
        "      # Convert lists to tensors\n",
        "      src_tensor = torch.tensor(src_ids, dtype=torch.long)\n",
        "      tgt_tensor = torch.tensor(tgt_ids, dtype=torch.long)\n",
        "\n",
        "      return src_tensor, tgt_tensor\n",
        "\n",
        "    def pad_or_truncate(self, token_ids, max_len, pad_token_id):\n",
        "        \"\"\"\n",
        "        Pads token_ids to max_len if shorter, or truncates if longer.\n",
        "        \"\"\"\n",
        "        if len(token_ids) < max_len:\n",
        "            token_ids = token_ids + [pad_token_id] * (max_len - len(token_ids))\n",
        "        else:\n",
        "            token_ids = token_ids[:max_len]\n",
        "        return token_ids\n"
      ],
      "metadata": {
        "id": "N18UGKjWV_jn"
      },
      "execution_count": null,
      "outputs": []
    },
    {
      "cell_type": "code",
      "source": [],
      "metadata": {
        "id": "7p8QhSpX3Sqf"
      },
      "execution_count": null,
      "outputs": []
    },
    {
      "cell_type": "code",
      "source": [],
      "metadata": {
        "id": "SWGrtM033Snx"
      },
      "execution_count": null,
      "outputs": []
    },
    {
      "cell_type": "code",
      "source": [
        "def save_model(model, optimizer, epoch, file_path):\n",
        "    \"\"\"\n",
        "    Save the model and optimizer state dictionaries along with the epoch.\n",
        "    \"\"\"\n",
        "    torch.save({\n",
        "        'epoch': epoch,\n",
        "        'model_state_dict': model.state_dict(),\n",
        "        'optimizer_state_dict': optimizer.state_dict(),\n",
        "    }, file_path)\n",
        "    print(f\"Model saved at epoch {epoch} to {file_path}\")\n",
        "\n",
        "def load_model(model, optimizer, file_path, device):\n",
        "    \"\"\"\n",
        "    Load the model and optimizer state dictionaries from a checkpoint.\n",
        "\n",
        "    Returns:\n",
        "        epoch (int): The epoch number stored in the checkpoint.\n",
        "    \"\"\"\n",
        "    checkpoint = torch.load(file_path, map_location=device)\n",
        "    model.load_state_dict(checkpoint['model_state_dict'])\n",
        "    optimizer.load_state_dict(checkpoint['optimizer_state_dict'])\n",
        "    epoch = checkpoint['epoch']\n",
        "    model.to(device)\n",
        "    print(f\"Model loaded from {file_path}, starting at epoch {epoch}\")\n",
        "    return epoch\n"
      ],
      "metadata": {
        "id": "Ms7KwUNzTDFP"
      },
      "execution_count": null,
      "outputs": []
    },
    {
      "cell_type": "code",
      "source": [
        "def train(model, data_loader, optimizer, criterion, device, num_epochs=10, save_path=\"transformer_model.pth\"):\n",
        "    print(device)\n",
        "    model.train()\n",
        "    for epoch in range(1, num_epochs + 1):\n",
        "        epoch_loss = 0.0\n",
        "        for src, tgt in tqdm(data_loader):\n",
        "            src, tgt = src.to(device), tgt.to(device)\n",
        "            if torch.cuda.is_available():\n",
        "              src, tgt = src.cuda(), tgt.cuda()\n",
        "\n",
        "            optimizer.zero_grad()\n",
        "            # Use teacher forcing: feed target input except the last token.\n",
        "            # output = model(src, tgt[:, :-1])\n",
        "            output = model(src, tgt[:, :-1])\n",
        "\n",
        "            output_flat = output.reshape(-1, output.size(-1))\n",
        "            target_flat = tgt[:, 1:].reshape(-1)\n",
        "            # Compute loss using outputs and target tokens shifted by one.\n",
        "            # Check shapes for debugging\n",
        "\n",
        "            loss = criterion(output_flat,target_flat)\n",
        "            loss.backward()\n",
        "            optimizer.step()\n",
        "            epoch_loss += loss.item()\n",
        "\n",
        "        avg_loss = epoch_loss / len(data_loader)\n",
        "        print(f\"Epoch {epoch}, Loss: {avg_loss:.4f}\")\n",
        "        save_model(model, optimizer, epoch, save_path)\n"
      ],
      "metadata": {
        "id": "nYLNAN8kPw8A"
      },
      "execution_count": null,
      "outputs": []
    },
    {
      "cell_type": "code",
      "source": [
        "def translate(model, src_sentence, src_tokenizer, tgt_tokenizer, device, max_len=50):\n",
        "    \"\"\"\n",
        "    Given a source sentence, translate it using the model.\n",
        "\n",
        "    Args:\n",
        "        model: The trained TransformerModel.\n",
        "        src_sentence (str): The input sentence in the source language.\n",
        "        src_tokenizer: Tokenizer for the source language.\n",
        "        tgt_tokenizer: Tokenizer for the target language.\n",
        "        device: torch.device to run inference on.\n",
        "        max_len: Maximum length of the target sequence.\n",
        "\n",
        "    Returns:\n",
        "        str: The translated sentence.\n",
        "    \"\"\"\n",
        "    model.eval()\n",
        "    # Tokenize the source sentence and add EOS token.\n",
        "    src_tokens = src_tokenizer.encode(src_sentence) + [src_tokenizer.eos_token_id]\n",
        "    src_tensor = torch.tensor(src_tokens).unsqueeze(0).to(device)  # (1, src_seq_len)\n",
        "\n",
        "    # Start with the beginning-of-sequence token.\n",
        "    tgt_tokens = [tgt_tokenizer.bos_token_id]\n",
        "\n",
        "    for _ in range(max_len):\n",
        "        tgt_tensor = torch.tensor(tgt_tokens).unsqueeze(0).to(device)\n",
        "        with torch.no_grad():\n",
        "            output = model(src_tensor, tgt_tensor)\n",
        "        # Choose the token with highest probability from the last output step.\n",
        "        next_token = output.argmax(-1)[:, -1].item()\n",
        "        if next_token == tgt_tokenizer.eos_token_id:\n",
        "            break\n",
        "        tgt_tokens.append(next_token)\n",
        "\n",
        "    translated_sentence = tgt_tokenizer.decode(tgt_tokens)\n",
        "    return translated_sentence\n"
      ],
      "metadata": {
        "id": "vn4UDyA_BKnl"
      },
      "execution_count": null,
      "outputs": []
    },
    {
      "cell_type": "code",
      "source": [
        "# Example hyperparameters (adjust according to your dataset and model size)\n",
        "INPUT_DIM = len(en_tokenizer.word2idx)   # Vocabulary size for source language\n",
        "OUTPUT_DIM = len(kn_tokenizer.word2idx)  # Vocabulary size for target language\n",
        "D_MODEL = 512\n",
        "NUM_HEADS = 8\n",
        "NUM_ENCODER_LAYERS = 3\n",
        "NUM_DECODER_LAYERS = 6\n",
        "HIDDEN_DIM = 1024\n",
        "DROPOUT = 0.1\n",
        "\n",
        "# Create the model instance.\n",
        "model = TransformerModel(INPUT_DIM, OUTPUT_DIM, D_MODEL, NUM_HEADS,\n",
        "                             NUM_ENCODER_LAYERS, NUM_DECODER_LAYERS, HIDDEN_DIM, DROPOUT)\n"
      ],
      "metadata": {
        "id": "rWcwlNqwBN_K"
      },
      "execution_count": null,
      "outputs": []
    },
    {
      "cell_type": "code",
      "source": [
        "# Example optimizer and loss criterion.\n",
        "\n",
        "criterion = nn.CrossEntropyLoss()  # adjust ignore_index to your pad token\n",
        "\n",
        "# Device configuration.\n",
        "device = torch.device(\"cuda\" if torch.cuda.is_available() else \"cpu\")\n",
        "\n",
        "if torch.cuda.is_available():\n",
        "  model = model.cuda()\n",
        "optimizer = torch.optim.Adam(model.parameters(), lr=3e-4)\n"
      ],
      "metadata": {
        "id": "fye2t_Q3BO-L"
      },
      "execution_count": null,
      "outputs": []
    },
    {
      "cell_type": "code",
      "source": [],
      "metadata": {
        "id": "nEZWz3RbcCa6"
      },
      "execution_count": null,
      "outputs": []
    },
    {
      "cell_type": "code",
      "source": [
        "# mx=0\n",
        "# for t in df['en']:\n",
        "#   mx=max(mx,len(t.split()))"
      ],
      "metadata": {
        "id": "-hbyioMqW4Ie"
      },
      "execution_count": null,
      "outputs": []
    },
    {
      "cell_type": "code",
      "source": [
        "BATCH_SIZE=32"
      ],
      "metadata": {
        "id": "gfVx0G5RXHmT"
      },
      "execution_count": null,
      "outputs": []
    },
    {
      "cell_type": "code",
      "source": [
        "translation_dataset = TranslationDataset(\n",
        "    df=df,\n",
        "    src_column='en',\n",
        "    tgt_column='kn',\n",
        "    src_tokenizer=en_tokenizer,\n",
        "    tgt_tokenizer=kn_tokenizer,\n",
        "    src_max_len=256,\n",
        "    tgt_max_len=256\n",
        ")\n"
      ],
      "metadata": {
        "id": "h3h2bz96VTJf"
      },
      "execution_count": null,
      "outputs": []
    },
    {
      "cell_type": "code",
      "source": [
        "device"
      ],
      "metadata": {
        "colab": {
          "base_uri": "https://localhost:8080/"
        },
        "id": "SfgfXWjnbBAl",
        "outputId": "1df95c8c-36ce-4283-ca3d-419ef6344a7f"
      },
      "execution_count": null,
      "outputs": [
        {
          "output_type": "execute_result",
          "data": {
            "text/plain": [
              "device(type='cuda')"
            ]
          },
          "metadata": {},
          "execution_count": 34
        }
      ]
    },
    {
      "cell_type": "code",
      "source": [
        "\n",
        "# Create a DataLoader for batching and shuffling the data\n",
        "data_loader = DataLoader(translation_dataset, batch_size=BATCH_SIZE, shuffle=True)\n"
      ],
      "metadata": {
        "id": "QCIwhdlVVZS_"
      },
      "execution_count": null,
      "outputs": []
    },
    {
      "cell_type": "code",
      "source": [
        "train(model, data_loader, optimizer, criterion, device, num_epochs=10, save_path=\"/content/drive/MyDrive/dataset/transformer_model_v2.pth\")"
      ],
      "metadata": {
        "colab": {
          "base_uri": "https://localhost:8080/"
        },
        "id": "mOP6Ol49XU9N",
        "outputId": "0e595770-0f30-4372-e7bb-4b80d2d896ad"
      },
      "execution_count": null,
      "outputs": [
        {
          "metadata": {
            "tags": null
          },
          "name": "stdout",
          "output_type": "stream",
          "text": [
            "cuda\n"
          ]
        },
        {
          "metadata": {
            "tags": null
          },
          "name": "stderr",
          "output_type": "stream",
          "text": [
            "100%|██████████| 9375/9375 [1:22:04<00:00,  1.90it/s]\n"
          ]
        },
        {
          "metadata": {
            "tags": null
          },
          "name": "stdout",
          "output_type": "stream",
          "text": [
            "Epoch 1, Loss: 0.1108\n",
            "Model saved at epoch 1 to /content/drive/MyDrive/dataset/transformer_model_v2.pth\n"
          ]
        },
        {
          "metadata": {
            "tags": null
          },
          "name": "stderr",
          "output_type": "stream",
          "text": [
            "100%|██████████| 9375/9375 [1:22:01<00:00,  1.90it/s]\n"
          ]
        },
        {
          "metadata": {
            "tags": null
          },
          "name": "stdout",
          "output_type": "stream",
          "text": [
            "Epoch 2, Loss: 0.1023\n",
            "Model saved at epoch 2 to /content/drive/MyDrive/dataset/transformer_model_v2.pth\n"
          ]
        },
        {
          "metadata": {
            "tags": null
          },
          "name": "stderr",
          "output_type": "stream",
          "text": [
            "100%|██████████| 9375/9375 [1:22:00<00:00,  1.91it/s]\n"
          ]
        },
        {
          "metadata": {
            "tags": null
          },
          "name": "stdout",
          "output_type": "stream",
          "text": [
            "Epoch 3, Loss: 0.0963\n",
            "Model saved at epoch 3 to /content/drive/MyDrive/dataset/transformer_model_v2.pth\n"
          ]
        },
        {
          "metadata": {
            "tags": null
          },
          "name": "stderr",
          "output_type": "stream",
          "text": [
            "100%|██████████| 9375/9375 [1:21:59<00:00,  1.91it/s]\n"
          ]
        },
        {
          "metadata": {
            "tags": null
          },
          "name": "stdout",
          "output_type": "stream",
          "text": [
            "Epoch 4, Loss: 0.0913\n",
            "Model saved at epoch 4 to /content/drive/MyDrive/dataset/transformer_model_v2.pth\n"
          ]
        },
        {
          "metadata": {
            "tags": null
          },
          "name": "stderr",
          "output_type": "stream",
          "text": [
            "100%|██████████| 9375/9375 [1:21:56<00:00,  1.91it/s]\n"
          ]
        },
        {
          "metadata": {
            "tags": null
          },
          "name": "stdout",
          "output_type": "stream",
          "text": [
            "Epoch 5, Loss: 0.0867\n",
            "Model saved at epoch 5 to /content/drive/MyDrive/dataset/transformer_model_v2.pth\n"
          ]
        },
        {
          "metadata": {
            "tags": null
          },
          "name": "stderr",
          "output_type": "stream",
          "text": [
            "100%|██████████| 9375/9375 [1:21:53<00:00,  1.91it/s]\n"
          ]
        },
        {
          "metadata": {
            "tags": null
          },
          "name": "stdout",
          "output_type": "stream",
          "text": [
            "Epoch 6, Loss: 0.0825\n",
            "Model saved at epoch 6 to /content/drive/MyDrive/dataset/transformer_model_v2.pth\n"
          ]
        },
        {
          "metadata": {
            "tags": null
          },
          "name": "stderr",
          "output_type": "stream",
          "text": [
            "100%|██████████| 9375/9375 [1:21:55<00:00,  1.91it/s]\n"
          ]
        },
        {
          "metadata": {
            "tags": null
          },
          "name": "stdout",
          "output_type": "stream",
          "text": [
            "Epoch 7, Loss: 0.0787\n",
            "Model saved at epoch 7 to /content/drive/MyDrive/dataset/transformer_model_v2.pth\n"
          ]
        },
        {
          "metadata": {
            "tags": null
          },
          "name": "stderr",
          "output_type": "stream",
          "text": [
            "100%|██████████| 9375/9375 [1:21:41<00:00,  1.91it/s]\n"
          ]
        },
        {
          "metadata": {
            "tags": null
          },
          "name": "stdout",
          "output_type": "stream",
          "text": [
            "Epoch 8, Loss: 0.0751\n",
            "Model saved at epoch 8 to /content/drive/MyDrive/dataset/transformer_model_v2.pth\n"
          ]
        },
        {
          "metadata": {
            "tags": null
          },
          "name": "stderr",
          "output_type": "stream",
          "text": [
            "100%|██████████| 9375/9375 [1:21:49<00:00,  1.91it/s]\n"
          ]
        },
        {
          "metadata": {
            "tags": null
          },
          "name": "stdout",
          "output_type": "stream",
          "text": [
            "Epoch 9, Loss: 0.0718\n",
            "Model saved at epoch 9 to /content/drive/MyDrive/dataset/transformer_model_v2.pth\n"
          ]
        },
        {
          "output_type": "stream",
          "name": "stderr",
          "text": [
            " 92%|█████████▏| 8652/9375 [1:12:29<05:59,  2.01it/s]"
          ]
        }
      ]
    },
    {
      "cell_type": "code",
      "source": [
        "translate(model, \"Good\", en_tokenizer, kn_tokenizer, device, max_len=100)"
      ],
      "metadata": {
        "id": "xclR7RyC3DY-",
        "colab": {
          "base_uri": "https://localhost:8080/",
          "height": 35
        },
        "outputId": "8d675dfa-14c7-4c57-e48e-de7b9c2e3933"
      },
      "execution_count": 55,
      "outputs": [
        {
          "output_type": "execute_result",
          "data": {
            "text/plain": [
              "'ಅಂತರರಾಷ್ಟ್ರೀಯ ವಿಸ್ತರಣೆ'"
            ],
            "application/vnd.google.colaboratory.intrinsic+json": {
              "type": "string"
            }
          },
          "metadata": {},
          "execution_count": 55
        }
      ]
    },
    {
      "cell_type": "code",
      "source": [
        "model=TransformerModel(INPUT_DIM, OUTPUT_DIM, D_MODEL, NUM_HEADS,\n",
        "                             NUM_ENCODER_LAYERS, NUM_DECODER_LAYERS, HIDDEN_DIM, DROPOUT)"
      ],
      "metadata": {
        "id": "zJ9JhlglJqaI"
      },
      "execution_count": 47,
      "outputs": []
    },
    {
      "cell_type": "code",
      "source": [
        "load_model(model,optimizer,\"/content/drive/MyDrive/dataset/transformer_model_v2.pth\",device)"
      ],
      "metadata": {
        "colab": {
          "base_uri": "https://localhost:8080/"
        },
        "id": "vlqT1WVJIx2w",
        "outputId": "29365c5b-9b6b-469d-9677-6e915e7864c3"
      },
      "execution_count": 54,
      "outputs": [
        {
          "output_type": "stream",
          "name": "stderr",
          "text": [
            "<ipython-input-26-d8d14a6cb4db>:19: FutureWarning: You are using `torch.load` with `weights_only=False` (the current default value), which uses the default pickle module implicitly. It is possible to construct malicious pickle data which will execute arbitrary code during unpickling (See https://github.com/pytorch/pytorch/blob/main/SECURITY.md#untrusted-models for more details). In a future release, the default value for `weights_only` will be flipped to `True`. This limits the functions that could be executed during unpickling. Arbitrary objects will no longer be allowed to be loaded via this mode unless they are explicitly allowlisted by the user via `torch.serialization.add_safe_globals`. We recommend you start setting `weights_only=True` for any use case where you don't have full control of the loaded file. Please open an issue on GitHub for any issues related to this experimental feature.\n",
            "  checkpoint = torch.load(file_path, map_location=device)\n"
          ]
        },
        {
          "output_type": "stream",
          "name": "stdout",
          "text": [
            "Model loaded from /content/drive/MyDrive/dataset/transformer_model_v2.pth, starting at epoch 10\n"
          ]
        },
        {
          "output_type": "execute_result",
          "data": {
            "text/plain": [
              "10"
            ]
          },
          "metadata": {},
          "execution_count": 54
        }
      ]
    },
    {
      "cell_type": "code",
      "source": [
        "import matplotlib.pyplot as plt"
      ],
      "metadata": {
        "id": "bmUz9SuRKysN"
      },
      "execution_count": 56,
      "outputs": []
    },
    {
      "cell_type": "code",
      "source": [
        "def evaluate(model, data_loader, criterion, device, pad_token_id):\n",
        "    \"\"\"\n",
        "    Evaluates the model on the provided data_loader and plots batch loss and accuracy.\n",
        "\n",
        "    Args:\n",
        "        model (torch.nn.Module): The trained model.\n",
        "        data_loader (DataLoader): DataLoader for the evaluation dataset.\n",
        "        criterion (torch.nn.Module): Loss function (e.g., nn.CrossEntropyLoss).\n",
        "        device (torch.device): Device to perform computation on.\n",
        "        pad_token_id (int): The token ID used for padding, which should be ignored in accuracy.\n",
        "\n",
        "    Returns:\n",
        "        avg_loss (float): Average loss over the dataset.\n",
        "        avg_accuracy (float): Overall token-level accuracy (excluding pad tokens).\n",
        "    \"\"\"\n",
        "    model.eval()  # set model to evaluation mode\n",
        "    total_loss = 0.0\n",
        "    total_correct = 0\n",
        "    total_tokens = 0\n",
        "\n",
        "    # Lists to store batch-wise metrics for plotting\n",
        "    batch_losses = []\n",
        "    batch_accuracies = []\n",
        "\n",
        "    # Disable gradient computation for evaluation\n",
        "    with torch.no_grad():\n",
        "        for src, tgt in data_loader:\n",
        "            src, tgt = src.to(device), tgt.to(device)\n",
        "\n",
        "            # For teacher forcing:\n",
        "            #   * The decoder input is all tokens except the last one.\n",
        "            #   * The target for loss computation is all tokens except the first one.\n",
        "            decoder_input = tgt[:, :-1]   # shape: [batch, seq_len - 1]\n",
        "            target_output = tgt[:, 1:]      # shape: [batch, seq_len - 1]\n",
        "\n",
        "            # Forward pass: model output shape -> [batch, seq_len - 1, vocab_size]\n",
        "            output = model(src, decoder_input)\n",
        "\n",
        "            # Flatten the output and target for loss computation:\n",
        "            output_flat = output.contiguous().view(-1, output.size(-1))\n",
        "            target_flat = target_output.contiguous().view(-1)\n",
        "\n",
        "            loss = criterion(output_flat, target_flat)\n",
        "            total_loss += loss.item()\n",
        "            batch_losses.append(loss.item())\n",
        "\n",
        "            # Compute predictions (taking the token with highest logit)\n",
        "            preds = output.argmax(dim=-1)  # shape: [batch, seq_len - 1]\n",
        "\n",
        "            # Create a mask to ignore padded tokens in the target.\n",
        "            # Assume pad_token_id is set appropriately.\n",
        "            mask = target_output != pad_token_id\n",
        "\n",
        "            # Count correct predictions where the mask is True.\n",
        "            correct = (preds == target_output) & mask\n",
        "            correct_count = correct.sum().item()\n",
        "            tokens_count = mask.sum().item()\n",
        "\n",
        "            batch_accuracy = correct_count / tokens_count if tokens_count > 0 else 0\n",
        "            batch_accuracies.append(batch_accuracy)\n",
        "\n",
        "            total_correct += correct_count\n",
        "            total_tokens += tokens_count\n",
        "\n",
        "    avg_loss = total_loss / len(data_loader)\n",
        "    avg_accuracy = total_correct / total_tokens if total_tokens > 0 else 0\n",
        "\n",
        "    # Plot the batch losses and accuracies\n",
        "    plt.figure(figsize=(12, 5))\n",
        "\n",
        "    # Plot Loss per batch\n",
        "    plt.subplot(1, 2, 1)\n",
        "    plt.plot(batch_losses, marker='o', label=\"Loss\")\n",
        "    plt.xlabel(\"Batch Number\")\n",
        "    plt.ylabel(\"Loss\")\n",
        "    plt.title(\"Batch Losses\")\n",
        "    plt.legend()\n",
        "\n",
        "    # Plot Accuracy per batch\n",
        "    plt.subplot(1, 2, 2)\n",
        "    plt.plot(batch_accuracies, marker='o', color='green', label=\"Accuracy\")\n",
        "    plt.xlabel(\"Batch Number\")\n",
        "    plt.ylabel(\"Accuracy\")\n",
        "    plt.title(\"Batch Accuracy\")\n",
        "    plt.legend()\n",
        "\n",
        "    plt.tight_layout()\n",
        "    plt.show()\n",
        "\n",
        "    return avg_loss, avg_accuracy"
      ],
      "metadata": {
        "id": "zh3BGzFxJjDW"
      },
      "execution_count": 57,
      "outputs": []
    },
    {
      "cell_type": "code",
      "source": [
        "pad_token_id = 0"
      ],
      "metadata": {
        "id": "2eIjRqhTLKyJ"
      },
      "execution_count": 59,
      "outputs": []
    },
    {
      "cell_type": "code",
      "source": [
        "avg_loss, avg_accuracy = evaluate(model, data_loader, criterion, device, pad_token_id)"
      ],
      "metadata": {
        "colab": {
          "base_uri": "https://localhost:8080/",
          "height": 470
        },
        "id": "yFHg8bYnK4qp",
        "outputId": "3b2c54ab-92fa-4b4e-c941-d87c0fdecf7b"
      },
      "execution_count": 60,
      "outputs": [
        {
          "output_type": "display_data",
          "data": {
            "text/plain": [
              "<Figure size 1200x500 with 2 Axes>"
            ],
            "image/png": "[encoded data removed]"
          },
          "metadata": {}
        }
      ]
    },
    {
      "cell_type": "code",
      "source": [],
      "metadata": {
        "id": "M2DmhGw7LPv7"
      },
      "execution_count": null,
      "outputs": []
    }
  ]
}